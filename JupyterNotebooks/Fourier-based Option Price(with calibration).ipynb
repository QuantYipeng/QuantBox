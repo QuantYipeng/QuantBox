{
 "cells": [
  {
   "cell_type": "code",
   "execution_count": 1,
   "metadata": {
    "collapsed": true
   },
   "outputs": [],
   "source": [
    "import math \n",
    "import numpy as np \n",
    "from scipy.integrate import quad\n",
    "import seaborn as snb; snb.set()"
   ]
  },
  {
   "cell_type": "code",
   "execution_count": 2,
   "metadata": {
    "collapsed": true
   },
   "outputs": [],
   "source": [
    "def M76_characteristic_function(u, T, r, sigma, lamb, mu, delta): \n",
    "    omega = r - 0.5 * sigma ** 2 - lamb * (np.exp(mu + 0.5 * delta ** 2) - 1) \n",
    "    value = np.exp((1j * u * omega - 0.5 * u ** 2 * sigma ** 2 \n",
    "                    + lamb * (np.exp(1j * u * mu - u ** 2 * delta ** 2 * 0.5) - 1)) * T) \n",
    "    return value"
   ]
  },
  {
   "cell_type": "code",
   "execution_count": 3,
   "metadata": {
    "collapsed": true
   },
   "outputs": [],
   "source": [
    " def M76_integration_function(u, S0, K, T, r, sigma, lamb, mu, delta): \n",
    "        JDCF = M76_characteristic_function(u - 0.5 * 1j, T, r, sigma, lamb, mu, delta) \n",
    "        value = 1 / (u ** 2 + 0.25) * (np.exp(1j * u * math.log(S0 / K)) * JDCF).real \n",
    "        return value"
   ]
  },
  {
   "cell_type": "code",
   "execution_count": 4,
   "metadata": {
    "collapsed": true
   },
   "outputs": [],
   "source": [
    "def M76_value_call_INT(S0, K, T, r, sigma, lamb, mu, delta): \n",
    "    int_value = quad(lambda u: M76_integration_function(u, S0, K, T, r, \n",
    "                        sigma, lamb, mu, delta), 0, 50, limit=250)[0] \n",
    "    call_value = S0 - np.exp(-r * T) * math.sqrt(S0 * K) / math.pi * int_value \n",
    "    return call_value"
   ]
  },
  {
   "cell_type": "code",
   "execution_count": 5,
   "metadata": {
    "collapsed": false
   },
   "outputs": [
    {
     "name": "stdout",
     "output_type": "stream",
     "text": [
      "Value of Call Option   19.948\n"
     ]
    }
   ],
   "source": [
    "S0 = 100.0 # initial index level \n",
    "K = 100.0 # strike level \n",
    "T = 1.0 # call option maturity \n",
    "r = 0.05 # constant short rate \n",
    "sigma = 0.4 # constant volatility of diffusion \n",
    "lamb = 1.0 # jump frequency p.a. \n",
    "mu = -0.2 # expected jump size \n",
    "delta = 0.1 # jump size volatility\n",
    "print(\"Value of Call Option %8.3f\" % \n",
    "      M76_value_call_INT(S0, K, T, r, sigma, lamb, mu, delta)) "
   ]
  },
  {
   "cell_type": "code",
   "execution_count": 6,
   "metadata": {
    "collapsed": true
   },
   "outputs": [],
   "source": [
    "from math import log, sqrt, exp\n",
    "from scipy import stats\n",
    "from scipy.optimize import fsolve\n",
    "\n",
    "class call_option(object):\n",
    "    ''' Class for European call options in BSM Model.\n",
    "    \n",
    "    Attributes\n",
    "    ==========\n",
    "    S0 : float\n",
    "        initial stock/index level\n",
    "    K : float\n",
    "        strike price\n",
    "    t : datetime/Timestamp object\n",
    "        pricing date\n",
    "    M : datetime/Timestamp object\n",
    "        maturity date\n",
    "    r : float\n",
    "        constant risk-free short rate\n",
    "    sigma : float\n",
    "        volatility factor in diffusion term\n",
    "        \n",
    "    Methods\n",
    "    =======\n",
    "    value : float\n",
    "        return present value of call option\n",
    "    vega : float\n",
    "        return vega of call option\n",
    "    imp_vol : float\n",
    "        return implied volatility given option quote\n",
    "    '''\n",
    "    \n",
    "    def __init__(self, S0, K, t, M, r, sigma):\n",
    "        self.S0 = float(S0)\n",
    "        self.K = K\n",
    "        self.t = t\n",
    "        self.M = M\n",
    "        self.r = r\n",
    "        self.sigma = sigma\n",
    "\n",
    "    def update_ttm(self):\n",
    "        ''' Updates time-to-maturity self.T. '''\n",
    "        if self.t > self.M:\n",
    "            raise ValueError(\"Pricing date later than maturity.\")\n",
    "        self.T = (self.M - self.t).days / 365.\n",
    "\n",
    "    def d1(self):\n",
    "        ''' Helper function. '''\n",
    "        d1 = ((log(self.S0 / self.K)\n",
    "            + (self.r + 0.5 * self.sigma ** 2) * self.T)\n",
    "            / (self.sigma * sqrt(self.T)))\n",
    "        return d1\n",
    "        \n",
    "    def value(self):\n",
    "        ''' Return option value. '''\n",
    "        self.update_ttm()\n",
    "        d1 = self.d1()\n",
    "        d2 = ((log(self.S0 / self.K)\n",
    "            + (self.r - 0.5 * self.sigma ** 2) * self.T)\n",
    "            / (self.sigma * sqrt(self.T)))\n",
    "        value = (self.S0 * stats.norm.cdf(d1, 0.0, 1.0)\n",
    "            - self.K * exp(-self.r * self.T) * stats.norm.cdf(d2, 0.0, 1.0))\n",
    "        return value\n",
    "        \n",
    "    def vega(self):\n",
    "        ''' Return Vega of option. '''\n",
    "        self.update_ttm()\n",
    "        d1 = self.d1()\n",
    "        vega = self.S0 * stats.norm.pdf(d1, 0.0, 1.0) * sqrt(self.T)\n",
    "        return vega\n",
    "\n",
    "    def imp_vol(self, C0, sigma_est=0.2):\n",
    "        ''' Return implied volatility given option price. '''\n",
    "        option = call_option(self.S0, self.K, self.t, self.M,\n",
    "                             self.r, sigma_est)\n",
    "        option.update_ttm()\n",
    "        def difference(sigma):\n",
    "            option.sigma = sigma\n",
    "            return option.value() - C0\n",
    "        iv = fsolve(difference, sigma_est)[0]\n",
    "        return iv"
   ]
  },
  {
   "cell_type": "code",
   "execution_count": 7,
   "metadata": {
    "collapsed": false
   },
   "outputs": [
    {
     "data": {
      "text/plain": [
       "<matplotlib.legend.Legend at 0x1da00a27470>"
      ]
     },
     "execution_count": 7,
     "metadata": {},
     "output_type": "execute_result"
    },
    {
     "data": {
      "image/png": "[encoded data removed]",
      "text/plain": [
       "<matplotlib.figure.Figure at 0x1da00a274a8>"
      ]
     },
     "metadata": {},
     "output_type": "display_data"
    }
   ],
   "source": [
    "## Generating a volatility smile\n",
    "import matplotlib.pyplot as plt\n",
    "import pandas as pd\n",
    "%matplotlib inline\n",
    "start = pd.Timestamp('2015-1-1') \n",
    "end = pd.Timestamp('2016-1-1') \n",
    "strikes = range(50, 151, 10) \n",
    "plt.figure(figsize=(10, 6)) \n",
    "#l is the lambda which is the intensity o Poisson distribution\n",
    "for l in np.arange(0, 1.0, 0.2): \n",
    "    imp_vols = [] \n",
    "    for k in strikes: \n",
    "        call = call_option(S0, k, start, end, r, 0.2) \n",
    "        M76_value = M76_value_call_INT(S0, k, T, r, sigma, l, mu, delta) \n",
    "        imp_vols.append(call.imp_vol(M76_value)) \n",
    "    plt.plot(strikes, imp_vols, label='$\\lambda$=%2.1f' % l) \n",
    "plt.legend(loc=0)  #add labels in the figure\n",
    "#plt.savefig('vol_smile.png')"
   ]
  },
  {
   "cell_type": "code",
   "execution_count": 8,
   "metadata": {
    "collapsed": true
   },
   "outputs": [],
   "source": [
    "## Calibration\n",
    "C0 = M76_value_call_INT(S0, K, T, r, sigma, lamb, mu, delta) \n",
    "def error_function(p0): \n",
    "    sigma, lamb, mu, delta = p0 \n",
    "    return abs(C0 - M76_value_call_INT(S0, K, T, r, sigma, lamb, mu, delta))"
   ]
  },
  {
   "cell_type": "code",
   "execution_count": 9,
   "metadata": {
    "collapsed": true
   },
   "outputs": [],
   "source": [
    "def plot_error_function(): \n",
    "    plt.figure(figsize=(10, 6)) \n",
    "    # Plotting (lamb) \n",
    "    l = np.linspace(-0.5, 1.5, 100); EFv = [] #error function value\n",
    "    for i in l: \n",
    "        EFv.append(error_function([sigma, i, mu, delta])) \n",
    "    plt.plot(l, EFv, label='lambda') \n",
    "    plt.xlabel('parameter values') \n",
    "    plt.ylabel('error function values c.p.') \n",
    "    # Plotting (mu) \n",
    "    l= np.linspace(-0.3, 0.3, 100); EFv = [] \n",
    "    for i in l: \n",
    "        EFv.append(error_function([sigma, lamb, i, delta])) \n",
    "    plt.plot(l, EFv, label='mu') \n",
    "    # Plotting (delta) \n",
    "    l = np.linspace(-0.3, 0.3, 100); EFv = [] \n",
    "    for i in l: \n",
    "        EFv.append(error_function([sigma, lamb, mu, i])) \n",
    "    plt.plot(l, EFv, label='delta')\n",
    "    plt.legend(loc=0)"
   ]
  },
  {
   "cell_type": "code",
   "execution_count": 10,
   "metadata": {
    "collapsed": false
   },
   "outputs": [
    {
     "data": {
      "image/png": "[encoded data removed]",
      "text/plain": [
       "<matplotlib.figure.Figure at 0x1da01fe5d68>"
      ]
     },
     "metadata": {},
     "output_type": "display_data"
    }
   ],
   "source": [
    "plot_error_function()"
   ]
  },
  {
   "cell_type": "code",
   "execution_count": 26,
   "metadata": {
    "collapsed": false
   },
   "outputs": [],
   "source": [
    "h5 = pd.HDFStore('es50_option_data.h5', 'r') \n",
    "data = h5['data'] # European call & put option data (3 maturities) \n",
    "h5.close() \n",
    "S0 = 3225.93 # EURO STOXX 50 level \n",
    "r = 0.005 # assumption \n",
    "\n",
    "# Option Selection \n",
    "tol = 0.05 \n",
    "options = data[(np.abs(data['Strike'] - S0) / S0) < tol] \n",
    "mats = sorted(set(options['Maturity'])) \n",
    "options = options[options['Maturity'] == mats[0]]\n",
    "options[\"Date\"] = options[\"Date\"].apply(lambda x:pd.Timestamp(x))\n",
    "options[\"Maturity\"] = options[\"Maturity\"].apply(lambda x:pd.Timestamp(x))"
   ]
  },
  {
   "cell_type": "code",
   "execution_count": 27,
   "metadata": {
    "collapsed": false
   },
   "outputs": [
    {
     "data": {
      "text/html": [
       "<div>\n",
       "<table border=\"1\" class=\"dataframe\">\n",
       "  <thead>\n",
       "    <tr style=\"text-align: right;\">\n",
       "      <th></th>\n",
       "      <th>Date</th>\n",
       "      <th>Strike</th>\n",
       "      <th>Call</th>\n",
       "      <th>Maturity</th>\n",
       "      <th>Put</th>\n",
       "    </tr>\n",
       "  </thead>\n",
       "  <tbody>\n",
       "    <tr>\n",
       "      <th>452</th>\n",
       "      <td>2014-09-30</td>\n",
       "      <td>3075.0</td>\n",
       "      <td>167.0</td>\n",
       "      <td>2014-10-17</td>\n",
       "      <td>9.3</td>\n",
       "    </tr>\n",
       "    <tr>\n",
       "      <th>453</th>\n",
       "      <td>2014-09-30</td>\n",
       "      <td>3100.0</td>\n",
       "      <td>144.5</td>\n",
       "      <td>2014-10-17</td>\n",
       "      <td>11.7</td>\n",
       "    </tr>\n",
       "    <tr>\n",
       "      <th>454</th>\n",
       "      <td>2014-09-30</td>\n",
       "      <td>3125.0</td>\n",
       "      <td>122.7</td>\n",
       "      <td>2014-10-17</td>\n",
       "      <td>14.9</td>\n",
       "    </tr>\n",
       "    <tr>\n",
       "      <th>455</th>\n",
       "      <td>2014-09-30</td>\n",
       "      <td>3150.0</td>\n",
       "      <td>101.8</td>\n",
       "      <td>2014-10-17</td>\n",
       "      <td>19.1</td>\n",
       "    </tr>\n",
       "    <tr>\n",
       "      <th>456</th>\n",
       "      <td>2014-09-30</td>\n",
       "      <td>3175.0</td>\n",
       "      <td>82.3</td>\n",
       "      <td>2014-10-17</td>\n",
       "      <td>24.5</td>\n",
       "    </tr>\n",
       "    <tr>\n",
       "      <th>457</th>\n",
       "      <td>2014-09-30</td>\n",
       "      <td>3200.0</td>\n",
       "      <td>64.3</td>\n",
       "      <td>2014-10-17</td>\n",
       "      <td>31.5</td>\n",
       "    </tr>\n",
       "    <tr>\n",
       "      <th>458</th>\n",
       "      <td>2014-09-30</td>\n",
       "      <td>3225.0</td>\n",
       "      <td>48.3</td>\n",
       "      <td>2014-10-17</td>\n",
       "      <td>40.5</td>\n",
       "    </tr>\n",
       "    <tr>\n",
       "      <th>459</th>\n",
       "      <td>2014-09-30</td>\n",
       "      <td>3250.0</td>\n",
       "      <td>34.6</td>\n",
       "      <td>2014-10-17</td>\n",
       "      <td>51.8</td>\n",
       "    </tr>\n",
       "    <tr>\n",
       "      <th>460</th>\n",
       "      <td>2014-09-30</td>\n",
       "      <td>3275.0</td>\n",
       "      <td>23.5</td>\n",
       "      <td>2014-10-17</td>\n",
       "      <td>65.8</td>\n",
       "    </tr>\n",
       "    <tr>\n",
       "      <th>461</th>\n",
       "      <td>2014-09-30</td>\n",
       "      <td>3300.0</td>\n",
       "      <td>15.1</td>\n",
       "      <td>2014-10-17</td>\n",
       "      <td>82.3</td>\n",
       "    </tr>\n",
       "    <tr>\n",
       "      <th>462</th>\n",
       "      <td>2014-09-30</td>\n",
       "      <td>3325.0</td>\n",
       "      <td>9.1</td>\n",
       "      <td>2014-10-17</td>\n",
       "      <td>101.3</td>\n",
       "    </tr>\n",
       "    <tr>\n",
       "      <th>463</th>\n",
       "      <td>2014-09-30</td>\n",
       "      <td>3350.0</td>\n",
       "      <td>5.1</td>\n",
       "      <td>2014-10-17</td>\n",
       "      <td>122.4</td>\n",
       "    </tr>\n",
       "    <tr>\n",
       "      <th>464</th>\n",
       "      <td>2014-09-30</td>\n",
       "      <td>3375.0</td>\n",
       "      <td>2.8</td>\n",
       "      <td>2014-10-17</td>\n",
       "      <td>145.0</td>\n",
       "    </tr>\n",
       "  </tbody>\n",
       "</table>\n",
       "</div>"
      ],
      "text/plain": [
       "          Date  Strike   Call   Maturity    Put\n",
       "452 2014-09-30  3075.0  167.0 2014-10-17    9.3\n",
       "453 2014-09-30  3100.0  144.5 2014-10-17   11.7\n",
       "454 2014-09-30  3125.0  122.7 2014-10-17   14.9\n",
       "455 2014-09-30  3150.0  101.8 2014-10-17   19.1\n",
       "456 2014-09-30  3175.0   82.3 2014-10-17   24.5\n",
       "457 2014-09-30  3200.0   64.3 2014-10-17   31.5\n",
       "458 2014-09-30  3225.0   48.3 2014-10-17   40.5\n",
       "459 2014-09-30  3250.0   34.6 2014-10-17   51.8\n",
       "460 2014-09-30  3275.0   23.5 2014-10-17   65.8\n",
       "461 2014-09-30  3300.0   15.1 2014-10-17   82.3\n",
       "462 2014-09-30  3325.0    9.1 2014-10-17  101.3\n",
       "463 2014-09-30  3350.0    5.1 2014-10-17  122.4\n",
       "464 2014-09-30  3375.0    2.8 2014-10-17  145.0"
      ]
     },
     "execution_count": 27,
     "metadata": {},
     "output_type": "execute_result"
    }
   ],
   "source": [
    "options"
   ]
  },
  {
   "cell_type": "code",
   "execution_count": 13,
   "metadata": {
    "collapsed": false,
    "scrolled": true
   },
   "outputs": [
    {
     "data": {
      "text/plain": [
       "<matplotlib.axes._subplots.AxesSubplot at 0x1da030c2cc0>"
      ]
     },
     "execution_count": 13,
     "metadata": {},
     "output_type": "execute_result"
    },
    {
     "data": {
      "image/png": "[encoded data removed]",
      "text/plain": [
       "<matplotlib.figure.Figure at 0x1da035436a0>"
      ]
     },
     "metadata": {},
     "output_type": "display_data"
    }
   ],
   "source": [
    "options['Call'].plot(style='o')"
   ]
  },
  {
   "cell_type": "code",
   "execution_count": 14,
   "metadata": {
    "collapsed": false
   },
   "outputs": [],
   "source": [
    "## root mean squared error RMSE\n",
    "i = 0; min_RMSE = 100. \n",
    "def M76_error_function(p0): \n",
    "    global i, min_RMSE \n",
    "    sigma, lamb, mu, delta = p0 \n",
    "    if sigma < 0.0 or delta < 0.0 or lamb < 0.0: \n",
    "        return 500.0 \n",
    "    se = [] \n",
    "    for row, option in options.iterrows(): \n",
    "        T = (option['Maturity'] - option['Date']).days / 365. \n",
    "        model_value = M76_value_call_INT(S0, option['Strike'], T, \n",
    "                                         r, sigma, lamb, mu, delta) \n",
    "        se.append((model_value - option['Call']) ** 2) \n",
    "    RMSE = math.sqrt(sum(se) / len(se)) \n",
    "    min_RMSE = min(min_RMSE, RMSE) \n",
    "    if i % 100 == 0: \n",
    "        print('%4d |' % i, np.array(p0), '| %7.3f | %7.3f' % (RMSE, min_RMSE)) \n",
    "    i += 1 \n",
    "    return RMSE"
   ]
  },
  {
   "cell_type": "code",
   "execution_count": 28,
   "metadata": {
    "collapsed": false
   },
   "outputs": [
    {
     "name": "stdout",
     "output_type": "stream",
     "text": [
      "   0 | [ 0.100  0.100 -0.400  0.000] |  12.676 |  12.676\n",
      " 100 | [ 0.100  0.300  0.000  0.020] |  15.240 |   7.372\n",
      " 200 | [ 0.100  0.600 -0.100  0.060] |  11.777 |   2.879\n",
      " 300 | [ 0.125  0.200 -0.200  0.100] |   9.004 |   2.443\n",
      " 400 | [ 0.125  0.500 -0.200  0.000] |   5.056 |   1.125\n",
      " 500 | [ 0.150  0.100 -0.300  0.040] |   6.109 |   0.970\n",
      " 600 | [ 0.150  0.400 -0.400  0.080] |   4.135 |   0.970\n",
      " 700 | [ 0.150  0.600  0.000  0.120] |   6.333 |   0.970\n",
      " 800 | [ 0.175  0.200  0.000  0.020] |   5.955 |   0.970\n",
      " 900 | [ 0.175  0.500 -0.100  0.060] |   5.536 |   0.970\n",
      "1000 | [ 0.200  0.100 -0.200  0.100] |   8.596 |   0.970\n",
      "1100 | [ 0.200  0.400 -0.200  0.000] |  10.692 |   0.970\n",
      "1200 | [ 0.200  0.700 -0.300  0.040] |  17.578 |   0.970\n",
      "Wall time: 46.4 s\n"
     ]
    }
   ],
   "source": [
    "%%time\n",
    "#inimize a function over a given range by brute force.\n",
    "import scipy.optimize as sop\n",
    "np.set_printoptions(suppress=True,\n",
    "                   formatter={'all': lambda x:'%6.3f' % x})\n",
    "#suppress not using the scientific format like e-10\n",
    "p0 = sop.brute(M76_error_function,((0.10, 0.201, 0.025),\n",
    "                                   (0.10, 0.80, 0.10), \n",
    "                                   (-0.40, 0.01, 0.10),\n",
    "                                   (0.00, 0.121, 0.02)),\n",
    "                                   finish=None)\n",
    "#brute(function,slices)slice(start,stop,step"
   ]
  },
  {
   "cell_type": "code",
   "execution_count": 31,
   "metadata": {
    "collapsed": false
   },
   "outputs": [
    {
     "name": "stdout",
     "output_type": "stream",
     "text": [
      "1300 | [ 0.122  0.723 -0.247  0.110] |   0.798 |   0.798\n",
      "1400 | [ 0.119  1.001 -0.187  0.013] |   0.769 |   0.768\n",
      "1500 | [ 0.119  1.031 -0.183  0.000] |   0.767 |   0.767\n",
      "1600 | [ 0.119  1.033 -0.183  0.000] |   0.767 |   0.767\n",
      "Optimization terminated successfully.\n",
      "         Current function value: 0.766508\n",
      "         Iterations: 278\n",
      "         Function evaluations: 477\n",
      "Wall time: 14.9 s\n"
     ]
    }
   ],
   "source": [
    "%%time\n",
    "#Minimize a function using the downhill simplex algorithm. \n",
    "opt = sop.fmin(M76_error_function, p0, xtol=0.00001,                    \n",
    "               ftol=0.00001, maxiter=750, maxfun=1500) "
   ]
  },
  {
   "cell_type": "code",
   "execution_count": 32,
   "metadata": {
    "collapsed": false
   },
   "outputs": [
    {
     "name": "stdout",
     "output_type": "stream",
     "text": [
      "   0 | [ 0.125  0.600 -0.300  0.120] |   0.970 |   0.767\n"
     ]
    },
    {
     "data": {
      "text/plain": [
       "0.9695219560420907"
      ]
     },
     "execution_count": 32,
     "metadata": {},
     "output_type": "execute_result"
    }
   ],
   "source": [
    "i=0\n",
    "M76_error_function(p0)"
   ]
  },
  {
   "cell_type": "code",
   "execution_count": 33,
   "metadata": {
    "collapsed": false
   },
   "outputs": [
    {
     "name": "stdout",
     "output_type": "stream",
     "text": [
      "   0 | [ 0.119  1.033 -0.183  0.000] |   0.767 |   0.767\n"
     ]
    },
    {
     "data": {
      "text/plain": [
       "0.7665083562548161"
      ]
     },
     "execution_count": 33,
     "metadata": {},
     "output_type": "execute_result"
    }
   ],
   "source": [
    "i=0\n",
    "M76_error_function(opt)"
   ]
  },
  {
   "cell_type": "code",
   "execution_count": 34,
   "metadata": {
    "collapsed": true
   },
   "outputs": [],
   "source": [
    "def generate_plot(opt, options): \n",
    "    sigma, lamb, mu, delta = opt \n",
    "    options['Model'] = 0.0 \n",
    "    for row, option in options.iterrows(): \n",
    "        T = (option['Maturity'] - option['Date']).days / 365. \n",
    "        options.loc[row, 'Model'] = M76_value_call_INT(S0, option['Strike'], \n",
    "                                                       T, r, sigma, lamb, mu, delta) \n",
    "    options = options.set_index('Strike') \n",
    "    fig, ax = plt.subplots(2, sharex=True, figsize=(8, 7)) \n",
    "    options[['Call', 'Model']].plot(style=['b-', 'ro'], \n",
    "                                    title='%s' % str(option['Maturity'])[:10], ax=ax[0]) \n",
    "    ax[0].set_ylabel('option values') \n",
    "    xv = options.index.values \n",
    "    ax[1] = plt.bar(xv - 5 / 2., options['Model'] - options['Call'], \n",
    "                    width=5) \n",
    "    plt.ylabel('difference') \n",
    "    plt.xlim(min(xv) - 10, max(xv) + 10) \n",
    "    plt.tight_layout()"
   ]
  },
  {
   "cell_type": "code",
   "execution_count": 35,
   "metadata": {
    "collapsed": false
   },
   "outputs": [
    {
     "data": {
      "image/png": "[encoded data removed]",
      "text/plain": [
       "<matplotlib.figure.Figure at 0x1da03224748>"
      ]
     },
     "metadata": {},
     "output_type": "display_data"
    }
   ],
   "source": [
    "generate_plot(opt,options)"
   ]
  },
  {
   "cell_type": "code",
   "execution_count": 36,
   "metadata": {
    "collapsed": true
   },
   "outputs": [],
   "source": [
    "S0 = 3225.93; r = 0.005 \n",
    "def calc_imp_vols(data): \n",
    "    data['Imp_Vol_Mod'] = 0.0 \n",
    "    data['Imp_Vol_Mar'] = 0.0 \n",
    "    tol = 0.30 # tolerance for moneyness \n",
    "    for row in data.index: \n",
    "        t = data['Date'][row] \n",
    "        T = data['Maturity'][row] \n",
    "        ttm = (T - t).days / 365. \n",
    "        forward = np.exp(r * ttm) * S0 \n",
    "        if (abs(data['Strike'][row] - forward) / forward) < tol: \n",
    "            call = call_option(S0, data['Strike'][row], t, T, r, 0.2) \n",
    "            data['Imp_Vol_Mod'][row] = call.imp_vol(data['Model'][row]) \n",
    "            data['Imp_Vol_Mar'][row] = call.imp_vol(data['Call'][row]) \n",
    "    return data"
   ]
  },
  {
   "cell_type": "code",
   "execution_count": 37,
   "metadata": {
    "collapsed": false
   },
   "outputs": [
    {
     "name": "stderr",
     "output_type": "stream",
     "text": [
      "C:\\ProgramData\\Anaconda3\\lib\\site-packages\\ipykernel\\__main__.py:13: SettingWithCopyWarning: \n",
      "A value is trying to be set on a copy of a slice from a DataFrame\n",
      "\n",
      "See the caveats in the documentation: http://pandas.pydata.org/pandas-docs/stable/indexing.html#indexing-view-versus-copy\n",
      "C:\\ProgramData\\Anaconda3\\lib\\site-packages\\ipykernel\\__main__.py:14: SettingWithCopyWarning: \n",
      "A value is trying to be set on a copy of a slice from a DataFrame\n",
      "\n",
      "See the caveats in the documentation: http://pandas.pydata.org/pandas-docs/stable/indexing.html#indexing-view-versus-copy\n"
     ]
    },
    {
     "data": {
      "text/plain": [
       "<matplotlib.axes._subplots.AxesSubplot at 0x1da01bdfb38>"
      ]
     },
     "execution_count": 37,
     "metadata": {},
     "output_type": "execute_result"
    },
    {
     "data": {
      "image/png": "[encoded data removed]",
      "text/plain": [
       "<matplotlib.figure.Figure at 0x1da030b32b0>"
      ]
     },
     "metadata": {},
     "output_type": "display_data"
    }
   ],
   "source": [
    "options = calc_imp_vols(options) \n",
    "options[['Imp_Vol_Mar', 'Imp_Vol_Mod']].plot(figsize=(10, 6), style=['b^', 'ro'])"
   ]
  },
  {
   "cell_type": "code",
   "execution_count": null,
   "metadata": {
    "collapsed": true
   },
   "outputs": [],
   "source": []
  }
 ],
 "metadata": {
  "kernelspec": {
   "display_name": "Python 3",
   "language": "python",
   "name": "python3"
  },
  "language_info": {
   "codemirror_mode": {
    "name": "ipython",
    "version": 3
   },
   "file_extension": ".py",
   "mimetype": "text/x-python",
   "name": "python",
   "nbconvert_exporter": "python",
   "pygments_lexer": "ipython3",
   "version": "3.6.0"
  }
 },
 "nbformat": 4,
 "nbformat_minor": 2
}
